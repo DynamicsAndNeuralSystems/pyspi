{
 "cells": [
  {
   "cell_type": "code",
   "execution_count": 1,
   "metadata": {},
   "outputs": [],
   "source": [
    "import yaml\n",
    "import os"
   ]
  },
  {
   "cell_type": "code",
   "execution_count": 12,
   "metadata": {},
   "outputs": [],
   "source": [
    "with open(\"config.yaml\") as f:\n",
    "    yf = yaml.load(f, Loader=yaml.FullLoader)"
   ]
  },
  {
   "cell_type": "code",
   "execution_count": null,
   "metadata": {},
   "outputs": [],
   "source": [
    "def filter_spis(configfile, keywords):\n",
    "    # load in the original YAML\n",
    "    with open(configfile) as f:\n",
    "        yf = yaml.load(f, Loader=yaml.FullLoader)\n",
    "    \n",
    "    for module in yf:\n",
    "        for "
   ]
  },
  {
   "cell_type": "code",
   "execution_count": 15,
   "metadata": {},
   "outputs": [
    {
     "data": {
      "text/plain": [
       "{'Covariance': {'labels': ['undirected',\n",
       "   'linear',\n",
       "   'signed',\n",
       "   'multivariate',\n",
       "   'contemporaneous'],\n",
       "  'dependencies': None,\n",
       "  'configs': [{'estimator': 'EmpiricalCovariance'},\n",
       "   {'estimator': 'EllipticEnvelope'},\n",
       "   {'estimator': 'GraphicalLasso'},\n",
       "   {'estimator': 'GraphicalLassoCV'},\n",
       "   {'estimator': 'LedoitWolf'},\n",
       "   {'estimator': 'MinCovDet'},\n",
       "   {'estimator': 'OAS'},\n",
       "   {'estimator': 'ShrunkCovariance'},\n",
       "   {'estimator': 'EmpiricalCovariance', 'squared': True},\n",
       "   {'estimator': 'EllipticEnvelope', 'squared': True},\n",
       "   {'estimator': 'GraphicalLasso', 'squared': True},\n",
       "   {'estimator': 'GraphicalLassoCV', 'squared': True},\n",
       "   {'estimator': 'LedoitWolf', 'squared': True},\n",
       "   {'estimator': 'MinCovDet', 'squared': True},\n",
       "   {'estimator': 'OAS', 'squared': True},\n",
       "   {'estimator': 'ShrunkCovariance', 'squared': True}]},\n",
       " 'Precision': {'labels': ['undirected',\n",
       "   'linear',\n",
       "   'signed',\n",
       "   'multivariate',\n",
       "   'contemporaneous'],\n",
       "  'dependencies': None,\n",
       "  'configs': [{'estimator': 'EmpiricalCovariance'},\n",
       "   {'estimator': 'EllipticEnvelope'},\n",
       "   {'estimator': 'GraphicalLasso'},\n",
       "   {'estimator': 'GraphicalLassoCV'},\n",
       "   {'estimator': 'LedoitWolf'},\n",
       "   {'estimator': 'MinCovDet'},\n",
       "   {'estimator': 'OAS'},\n",
       "   {'estimator': 'ShrunkCovariance'},\n",
       "   {'estimator': 'EmpiricalCovariance', 'squared': True},\n",
       "   {'estimator': 'EllipticEnvelope', 'squared': True},\n",
       "   {'estimator': 'GraphicalLasso', 'squared': True},\n",
       "   {'estimator': 'GraphicalLassoCV', 'squared': True},\n",
       "   {'estimator': 'LedoitWolf', 'squared': True},\n",
       "   {'estimator': 'MinCovDet', 'squared': True},\n",
       "   {'estimator': 'OAS', 'squared': True},\n",
       "   {'estimator': 'ShrunkCovariance', 'squared': True}]},\n",
       " 'SpearmanR': {'labels': ['undirected',\n",
       "   'nonlinear',\n",
       "   'signed',\n",
       "   'bivariate',\n",
       "   'contemporaneous'],\n",
       "  'dependencies': None,\n",
       "  'configs': [{'squared': True}, {'squared': False}]},\n",
       " 'KendallTau': {'labels': ['undirected',\n",
       "   'nonlinear',\n",
       "   'signed',\n",
       "   'bivariate',\n",
       "   'contemporaneous'],\n",
       "  'dependencies': None,\n",
       "  'configs': [{'squared': True}, {'squared': False}]},\n",
       " 'CrossCorrelation': {'labels': ['undirected',\n",
       "   'linear',\n",
       "   'signed/unsigned',\n",
       "   'bivariate',\n",
       "   'time-dependent'],\n",
       "  'dependencies': None,\n",
       "  'configs': [{'statistic': 'max'},\n",
       "   {'statistic': 'max', 'squared': True},\n",
       "   {'statistic': 'mean'},\n",
       "   {'statistic': 'mean', 'squared': True},\n",
       "   {'statistic': 'mean', 'sigonly': False},\n",
       "   {'statistic': 'mean', 'squared': True, 'sigonly': False}]}}"
      ]
     },
     "execution_count": 15,
     "metadata": {},
     "output_type": "execute_result"
    }
   ],
   "source": [
    "yf['.statistics.basic']['Covariance']"
   ]
  },
  {
   "cell_type": "code",
   "execution_count": 32,
   "metadata": {},
   "outputs": [
    {
     "data": {
      "text/plain": [
       "['undirected', 'linear', 'signed', 'multivariate', 'contemporaneous']"
      ]
     },
     "execution_count": 32,
     "metadata": {},
     "output_type": "execute_result"
    }
   ],
   "source": [
    "yf['.statistics.basic']['Covariance'].get('labels')"
   ]
  },
  {
   "cell_type": "code",
   "execution_count": 30,
   "metadata": {},
   "outputs": [
    {
     "ename": "AttributeError",
     "evalue": "'str' object has no attribute 'get'",
     "output_type": "error",
     "traceback": [
      "\u001b[0;31m---------------------------------------------------------------------------\u001b[0m",
      "\u001b[0;31mAttributeError\u001b[0m                            Traceback (most recent call last)",
      "Cell \u001b[0;32mIn[30], line 1\u001b[0m\n\u001b[0;32m----> 1\u001b[0m filtered \u001b[38;5;241m=\u001b[39m \u001b[38;5;28;43mlist\u001b[39;49m\u001b[43m(\u001b[49m\u001b[38;5;28;43mfilter\u001b[39;49m\u001b[43m(\u001b[49m\u001b[38;5;28;43;01mlambda\u001b[39;49;00m\u001b[43m \u001b[49m\u001b[43mx\u001b[49m\u001b[43m:\u001b[49m\u001b[43m \u001b[49m\u001b[43mx\u001b[49m\u001b[38;5;241;43m.\u001b[39;49m\u001b[43mget\u001b[49m\u001b[43m(\u001b[49m\u001b[38;5;124;43m'\u001b[39;49m\u001b[38;5;124;43mlabels\u001b[39;49m\u001b[38;5;124;43m'\u001b[39;49m\u001b[43m)\u001b[49m\u001b[43m \u001b[49m\u001b[38;5;241;43m==\u001b[39;49m\u001b[43m \u001b[49m\u001b[38;5;124;43m'\u001b[39;49m\u001b[38;5;124;43mlinear\u001b[39;49m\u001b[38;5;124;43m'\u001b[39;49m\u001b[43m,\u001b[49m\u001b[43m \u001b[49m\u001b[43myf\u001b[49m\u001b[43m[\u001b[49m\u001b[38;5;124;43m'\u001b[39;49m\u001b[38;5;124;43m.statistics.basic\u001b[39;49m\u001b[38;5;124;43m'\u001b[39;49m\u001b[43m]\u001b[49m\u001b[43m[\u001b[49m\u001b[38;5;124;43m'\u001b[39;49m\u001b[38;5;124;43mCovariance\u001b[39;49m\u001b[38;5;124;43m'\u001b[39;49m\u001b[43m]\u001b[49m\u001b[43m)\u001b[49m\u001b[43m)\u001b[49m\n",
      "Cell \u001b[0;32mIn[30], line 1\u001b[0m, in \u001b[0;36m<lambda>\u001b[0;34m(x)\u001b[0m\n\u001b[0;32m----> 1\u001b[0m filtered \u001b[38;5;241m=\u001b[39m \u001b[38;5;28mlist\u001b[39m(\u001b[38;5;28mfilter\u001b[39m(\u001b[38;5;28;01mlambda\u001b[39;00m x: \u001b[43mx\u001b[49m\u001b[38;5;241;43m.\u001b[39;49m\u001b[43mget\u001b[49m(\u001b[38;5;124m'\u001b[39m\u001b[38;5;124mlabels\u001b[39m\u001b[38;5;124m'\u001b[39m) \u001b[38;5;241m==\u001b[39m \u001b[38;5;124m'\u001b[39m\u001b[38;5;124mlinear\u001b[39m\u001b[38;5;124m'\u001b[39m, yf[\u001b[38;5;124m'\u001b[39m\u001b[38;5;124m.statistics.basic\u001b[39m\u001b[38;5;124m'\u001b[39m][\u001b[38;5;124m'\u001b[39m\u001b[38;5;124mCovariance\u001b[39m\u001b[38;5;124m'\u001b[39m]))\n",
      "\u001b[0;31mAttributeError\u001b[0m: 'str' object has no attribute 'get'"
     ]
    }
   ],
   "source": [
    "\n",
    "filtered = list(filter(lambda x: x.get('labels') == 'linear', yf['.statistics.basic']['Covariance']))"
   ]
  },
  {
   "cell_type": "code",
   "execution_count": 43,
   "metadata": {},
   "outputs": [],
   "source": [
    "for module in yf:\n",
    "    for content in yf[module]:\n",
    "        spis = list()\n",
    "        if 'directed' in yf[module][content].get('labels'):\n",
    "                spis.append(yf[module])"
   ]
  },
  {
   "cell_type": "code",
   "execution_count": 74,
   "metadata": {},
   "outputs": [],
   "source": [
    "filtered_dict = {}\n",
    "for content in yf['.statistics.basic']:\n",
    "    if 'signed' in yf['.statistics.basic'][content].get('labels'):\n",
    "        #print(yf['.statistics.basic'][content])\n",
    "        filtered_dict[content] = yf['.statistics.basic'][content]\n",
    "    "
   ]
  },
  {
   "cell_type": "code",
   "execution_count": 75,
   "metadata": {},
   "outputs": [],
   "source": [
    "meta_dict = {'.statistics.basic': filtered_dict}"
   ]
  },
  {
   "cell_type": "code",
   "execution_count": 84,
   "metadata": {},
   "outputs": [],
   "source": [
    "import tempfile"
   ]
  },
  {
   "cell_type": "code",
   "execution_count": 91,
   "metadata": {},
   "outputs": [],
   "source": [
    "temp = tempfile.NamedTemporaryFile(suffix='_suf')"
   ]
  },
  {
   "cell_type": "code",
   "execution_count": 93,
   "metadata": {},
   "outputs": [
    {
     "name": "stdout",
     "output_type": "stream",
     "text": [
      "/var/folders/z3/q9sgsjh15j1_0jw8qp3s0xn40000gn/T/tmpo17v_e5i_suf\n"
     ]
    }
   ],
   "source": [
    "print(temp.name)"
   ]
  },
  {
   "cell_type": "code",
   "execution_count": 126,
   "metadata": {},
   "outputs": [],
   "source": [
    "def filter_spis(configfile, keywords, name=\"filtered_config\"):\n",
    "    \n",
    "    # check that keywords is a list\n",
    "    if type(keywords) is not list:\n",
    "        raise TypeError(\"Keywords must be passed as a list.\")\n",
    "    # load in the original YAML\n",
    "    with open(configfile) as f:\n",
    "        yf = yaml.load(f, Loader=yaml.FullLoader)\n",
    "    \n",
    "    # new dictonary to be converted to final YAML\n",
    "    filtered_subset = {}\n",
    "    for module in yf:\n",
    "        module_spis = {}\n",
    "        for spi in yf[module]:\n",
    "            spi_labels = yf[module][spi].get('labels')\n",
    "            if all(keyword in spi_labels for keyword in keywords):\n",
    "                module_spis[spi] = yf[module][spi]\n",
    "        filtered_subset[module] = module_spis\n",
    "    \n",
    "    # write to YAML\n",
    "    with open(f\"{name}.yaml\", \"w\") as outfile:\n",
    "        yaml.dump(filtered_subset, outfile, default_flow_style=False, sort_keys=False)\n",
    "\n",
    "    print(f\"Saved new yaml as `{name}.yaml' in the current directory.\")"
   ]
  },
  {
   "cell_type": "code",
   "execution_count": 128,
   "metadata": {},
   "outputs": [
    {
     "name": "stdout",
     "output_type": "stream",
     "text": [
      "Saved new yaml as `filtered_config.yaml' in the current directory.\n"
     ]
    }
   ],
   "source": [
    "filter_spis('config.yaml', [\"test\"])"
   ]
  },
  {
   "cell_type": "code",
   "execution_count": null,
   "metadata": {},
   "outputs": [],
   "source": []
  }
 ],
 "metadata": {
  "kernelspec": {
   "display_name": "Python 3",
   "language": "python",
   "name": "python3"
  },
  "language_info": {
   "codemirror_mode": {
    "name": "ipython",
    "version": 3
   },
   "file_extension": ".py",
   "mimetype": "text/x-python",
   "name": "python",
   "nbconvert_exporter": "python",
   "pygments_lexer": "ipython3",
   "version": "3.9.0"
  }
 },
 "nbformat": 4,
 "nbformat_minor": 2
}
