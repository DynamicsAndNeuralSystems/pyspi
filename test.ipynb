{
 "cells": [
  {
   "cell_type": "code",
   "execution_count": 2,
   "id": "a353460e",
   "metadata": {},
   "outputs": [],
   "source": [
    "from pyspi.calculator import Calculator\n",
    "import numpy as np"
   ]
  },
  {
   "cell_type": "code",
   "execution_count": 3,
   "id": "18631d4f",
   "metadata": {},
   "outputs": [],
   "source": [
    "dat = np.load(\"/Users/jmoo2880/Documents/native-phi/pyspi/pyspi/data/cml7.npy\").T"
   ]
  },
  {
   "cell_type": "code",
   "execution_count": 5,
   "id": "927f54c6",
   "metadata": {},
   "outputs": [
    {
     "name": "stdout",
     "output_type": "stream",
     "text": [
      "Checking if optional dependencies exist...\n",
      "Starting JVM with java class /Users/jmoo2880/Documents/native-phi/pyspi/pyspi/lib/jidt/infodynamics.jar.\n",
      "Loading configuration file: /Users/jmoo2880/Documents/native-phi/pyspi/pyspi/phiconf.yaml\n",
      "*** Importing module .statistics.infotheory\n",
      "[0] Adding SPI .statistics.infotheory.IntegratedInformation(x,y,{'phitype': 'star'})\n",
      "Succesfully initialised SPI with identifier \"phi_star_t-1_norm-0\" and labels ['linear', 'unsigned', 'infotheory', 'temporal', 'undirected']\n",
      "[1] Adding SPI .statistics.infotheory.IntegratedInformation(x,y,{'phitype': 'star', 'normalization': 1})\n",
      "Succesfully initialised SPI with identifier \"phi_star_t-1_norm-1\" and labels ['linear', 'unsigned', 'infotheory', 'temporal', 'undirected']\n",
      "[2] Adding SPI .statistics.infotheory.IntegratedInformation(x,y,{'phitype': 'Geo'})\n",
      "Succesfully initialised SPI with identifier \"phi_Geo_t-1_norm-0\" and labels ['linear', 'unsigned', 'infotheory', 'temporal', 'undirected']\n",
      "[3] Adding SPI .statistics.infotheory.IntegratedInformation(x,y,{'phitype': 'Geo', 'normalization': 1})\n",
      "Succesfully initialised SPI with identifier \"phi_Geo_t-1_norm-1\" and labels ['linear', 'unsigned', 'infotheory', 'temporal', 'undirected']\n",
      "====================================================================================================\n",
      "4 SPI(s) were successfully initialised.\n",
      "\n",
      "[1/2] Skipping detrending of time series in the dataset...\n",
      "[2/2] Normalising (z-scoring) each time series in the dataset...\n",
      "\n"
     ]
    }
   ],
   "source": [
    "calc = Calculator(dataset=dat, configfile=\"/Users/jmoo2880/Documents/native-phi/pyspi/pyspi/phiconf.yaml\")"
   ]
  },
  {
   "cell_type": "code",
   "execution_count": null,
   "id": "ff31017e",
   "metadata": {},
   "outputs": [],
   "source": []
  }
 ],
 "metadata": {
  "kernelspec": {
   "display_name": "pyspi-dev4",
   "language": "python",
   "name": "python3"
  },
  "language_info": {
   "codemirror_mode": {
    "name": "ipython",
    "version": 3
   },
   "file_extension": ".py",
   "mimetype": "text/x-python",
   "name": "python",
   "nbconvert_exporter": "python",
   "pygments_lexer": "ipython3",
   "version": "3.12.11"
  }
 },
 "nbformat": 4,
 "nbformat_minor": 5
}
